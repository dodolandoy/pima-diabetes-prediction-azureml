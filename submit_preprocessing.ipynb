{
  "cells": [
    {
      "cell_type": "code",
      "source": [
        "from azure.ai.ml import MLClient, command, Input, Output\n",
        "from azure.identity import DefaultAzureCredential\n",
        "\n",
        "ml_client = MLClient(\n",
        "    credential=DefaultAzureCredential(),\n",
        "    subscription_id=\"9b242a28-3291-4f4a-a229-21cb403aee00\",\n",
        "    resource_group_name=\"DEFI\",\n",
        "    workspace_name=\"EDOHKODJI-machinelearn\"\n",
        ")\n",
        "\n",
        "job = command(\n",
        "    code=\".\",  # folder containing preprocessing.py\n",
        "    command=\"python preprocessing.py --input_path ${{inputs.input_data}} --output_path ${{outputs.output_data}}\",\n",
        "    inputs={\n",
        "        \"input_data\": Input(type=\"uri_file\", path=\"azureml:diabetes-raw-csv:1\")\n",
        "    },\n",
        "    outputs={\n",
        "        \"output_data\": Output(type=\"uri_folder\")\n",
        "    },\n",
        "    environment=\"AzureML-sklearn-1.0-ubuntu20.04-py38-cpu:1\",\n",
        "    compute=\"cpu-cluster\",\n",
        "    display_name=\"preprocessing-diabetes\",\n",
        "    experiment_name=\"pima-preprocessing\"\n",
        ")\n",
        "\n",
        "ml_client.jobs.create_or_update(job)"
      ],
      "outputs": [],
      "execution_count": null,
      "metadata": {
        "gather": {
          "logged": 1747688474996
        }
      }
    }
  ],
  "metadata": {
    "kernelspec": {
      "name": "python310-sdkv2",
      "language": "python",
      "display_name": "Python 3.10 - SDK v2"
    },
    "language_info": {
      "name": "python",
      "version": "3.10.16",
      "mimetype": "text/x-python",
      "codemirror_mode": {
        "name": "ipython",
        "version": 3
      },
      "pygments_lexer": "ipython3",
      "nbconvert_exporter": "python",
      "file_extension": ".py"
    },
    "microsoft": {
      "ms_spell_check": {
        "ms_spell_check_language": "fr"
      },
      "host": {
        "AzureML": {
          "notebookHasBeenCompleted": true
        }
      }
    },
    "kernel_info": {
      "name": "python310-sdkv2"
    },
    "nteract": {
      "version": "nteract-front-end@1.0.0"
    }
  },
  "nbformat": 4,
  "nbformat_minor": 2
}