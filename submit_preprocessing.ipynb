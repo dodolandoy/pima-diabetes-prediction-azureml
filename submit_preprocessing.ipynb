{
  "cells": [
    {
      "cell_type": "code",
      "execution_count": null,
      "metadata": {
        "gather": {
          "logged": 1747688474996
        }
      },
      "outputs": [
        {
          "name": "stderr",
          "output_type": "stream",
          "text": [
            "Class AutoDeleteSettingSchema: This is an experimental class, and may change at any time. Please see https://aka.ms/azuremlexperimental for more information.\n",
            "Class AutoDeleteConditionSchema: This is an experimental class, and may change at any time. Please see https://aka.ms/azuremlexperimental for more information.\n",
            "Class BaseAutoDeleteSettingSchema: This is an experimental class, and may change at any time. Please see https://aka.ms/azuremlexperimental for more information.\n",
            "Class IntellectualPropertySchema: This is an experimental class, and may change at any time. Please see https://aka.ms/azuremlexperimental for more information.\n",
            "Class ProtectionLevelSchema: This is an experimental class, and may change at any time. Please see https://aka.ms/azuremlexperimental for more information.\n",
            "Class BaseIntellectualPropertySchema: This is an experimental class, and may change at any time. Please see https://aka.ms/azuremlexperimental for more information.\n",
            "\u001b[32mUploading edoh.kodji (52.57 MBs): 100%|██████████| 52566686/52566686 [00:13<00:00, 3859740.41it/s] \n",
            "\u001b[39m\n",
            "\n",
            "pathOnCompute is not a known attribute of class <class 'azure.ai.ml._restclient.v2023_04_01_preview.models._models_py3.UriFolderJobOutput'> and will be ignored\n"
          ]
        },
        {
          "data": {
            "text/html": [
              "<table style=\"width:100%\"><tr><th>Experiment</th><th>Name</th><th>Type</th><th>Status</th><th>Details Page</th></tr><tr><td>pima-preprocessing</td><td>loving_chain_sn11p619k9</td><td>command</td><td>Starting</td><td><a href=\"https://ml.azure.com/runs/loving_chain_sn11p619k9?wsid=/subscriptions/9b242a28-3291-4f4a-a229-21cb403aee00/resourcegroups/DEFI/workspaces/EDOHKODJI-machinelearn&amp;tid=d27eefec-2a47-4be7-981e-0f8977fa31d8\" target=\"_blank\" rel=\"noopener\">Link to Azure Machine Learning studio</a></td></tr></table>"
            ],
            "text/plain": [
              "Command({'parameters': {}, 'init': False, 'name': 'loving_chain_sn11p619k9', 'type': 'command', 'status': 'Starting', 'log_files': None, 'description': None, 'tags': {}, 'properties': {'_azureml.ComputeTargetType': 'amlctrain', '_azureml.ClusterName': 'cpu-cluster', 'ContentSnapshotId': '0f9766c2-bbb5-413f-ae73-9a7713b5749f'}, 'print_as_yaml': False, 'id': '/subscriptions/9b242a28-3291-4f4a-a229-21cb403aee00/resourceGroups/DEFI/providers/Microsoft.MachineLearningServices/workspaces/EDOHKODJI-machinelearn/jobs/loving_chain_sn11p619k9', 'Resource__source_path': '', 'base_path': '/mnt/batch/tasks/shared/LS_root/mounts/clusters/mychallenge2025/code/Users/edoh.kodji', 'creation_context': <azure.ai.ml.entities._system_data.SystemData object at 0x7f7c7a4ffbe0>, 'serialize': <msrest.serialization.Serializer object at 0x7f7c784f67a0>, 'allowed_keys': {}, 'key_restriction': False, 'logger': <Logger attr_dict (WARNING)>, 'display_name': 'preprocessing-diabetes', 'experiment_name': 'pima-preprocessing', 'compute': 'cpu-cluster', 'services': {'Tracking': {'endpoint': 'azureml://eastus2.api.azureml.ms/mlflow/v1.0/subscriptions/9b242a28-3291-4f4a-a229-21cb403aee00/resourceGroups/DEFI/providers/Microsoft.MachineLearningServices/workspaces/EDOHKODJI-machinelearn?', 'type': 'Tracking'}, 'Studio': {'endpoint': 'https://ml.azure.com/runs/loving_chain_sn11p619k9?wsid=/subscriptions/9b242a28-3291-4f4a-a229-21cb403aee00/resourcegroups/DEFI/workspaces/EDOHKODJI-machinelearn&tid=d27eefec-2a47-4be7-981e-0f8977fa31d8', 'type': 'Studio'}}, 'comment': None, 'job_inputs': {'input_data': {'type': 'uri_file', 'path': 'diabetes-raw-csv:1', 'mode': 'ro_mount'}}, 'job_outputs': {'output_data': {'type': 'uri_folder', 'mode': 'rw_mount'}, 'default': {'type': 'uri_folder', 'path': 'azureml://datastores/workspaceartifactstore/ExperimentRun/dcid.loving_chain_sn11p619k9', 'mode': 'rw_mount'}}, 'inputs': {'input_data': <azure.ai.ml.entities._job.pipeline._io.base.NodeInput object at 0x7f7c784f5900>}, 'outputs': {'output_data': <azure.ai.ml.entities._job.pipeline._io.base.NodeOutput object at 0x7f7c784f6e60>, 'default': <azure.ai.ml.entities._job.pipeline._io.base.NodeOutput object at 0x7f7c784f7c70>}, 'component': CommandComponent({'latest_version': None, 'intellectual_property': None, 'auto_increment_version': True, 'source': 'REMOTE.WORKSPACE.JOB', 'is_anonymous': False, 'auto_delete_setting': None, 'name': 'loving_chain_sn11p619k9', 'description': None, 'tags': {}, 'properties': {}, 'print_as_yaml': False, 'id': None, 'Resource__source_path': None, 'base_path': '/mnt/batch/tasks/shared/LS_root/mounts/clusters/mychallenge2025/code/Users/edoh.kodji', 'creation_context': <azure.ai.ml.entities._system_data.SystemData object at 0x7f7c7a4ffbe0>, 'serialize': <msrest.serialization.Serializer object at 0x7f7c784f7b80>, 'command': 'python preprocessing.py --input_path ${{inputs.input_data}} --output_path ${{outputs.output_data}}', 'code': '/subscriptions/9b242a28-3291-4f4a-a229-21cb403aee00/resourceGroups/DEFI/providers/Microsoft.MachineLearningServices/workspaces/EDOHKODJI-machinelearn/codes/81440700-17b1-4c22-8a7e-06a80a2eeefe/versions/1', 'environment_variables': {}, 'environment': 'azureml:AzureML-sklearn-1.0-ubuntu20.04-py38-cpu:1', 'distribution': None, 'resources': None, 'queue_settings': None, 'version': None, 'schema': None, 'type': 'command', 'display_name': 'preprocessing-diabetes', 'is_deterministic': True, 'inputs': {'input_data': {'type': 'uri_file', 'path': '/subscriptions/9b242a28-3291-4f4a-a229-21cb403aee00/resourceGroups/DEFI/providers/Microsoft.MachineLearningServices/workspaces/EDOHKODJI-machinelearn/data/diabetes-raw-csv/versions/1', 'mode': 'ro_mount'}}, 'outputs': {'output_data': {'type': 'uri_folder', 'mode': 'rw_mount'}, 'default': {'type': 'uri_folder', 'path': 'azureml://datastores/workspaceartifactstore/ExperimentRun/dcid.loving_chain_sn11p619k9', 'mode': 'rw_mount'}}, 'yaml_str': None, 'other_parameter': {'status': 'Starting', 'parameters': {}}, 'additional_includes': []}), 'referenced_control_flow_node_instance_id': None, 'kwargs': {'services': {'Tracking': {'endpoint': 'azureml://eastus2.api.azureml.ms/mlflow/v1.0/subscriptions/9b242a28-3291-4f4a-a229-21cb403aee00/resourceGroups/DEFI/providers/Microsoft.MachineLearningServices/workspaces/EDOHKODJI-machinelearn?', 'type': 'Tracking'}, 'Studio': {'endpoint': 'https://ml.azure.com/runs/loving_chain_sn11p619k9?wsid=/subscriptions/9b242a28-3291-4f4a-a229-21cb403aee00/resourcegroups/DEFI/workspaces/EDOHKODJI-machinelearn&tid=d27eefec-2a47-4be7-981e-0f8977fa31d8', 'type': 'Studio'}}, 'status': 'Starting', 'creation_context': <azure.ai.ml.entities._system_data.SystemData object at 0x7f7c7a4ffbe0>}, 'instance_id': 'bba6c681-dd99-471a-8ad4-b80da6a24597', 'source': 'BUILDER', 'validate_required_input_not_provided': True, 'limits': None, 'identity': None, 'distribution': None, 'environment_variables': {}, 'environment': 'azureml:AzureML-sklearn-1.0-ubuntu20.04-py38-cpu:1', 'resources': {'instance_count': 1, 'shm_size': '2g'}, 'queue_settings': {'job_tier': 'null'}, 'parent_job_name': None, 'swept': False})"
            ]
          },
          "execution_count": 1,
          "metadata": {},
          "output_type": "execute_result"
        }
      ],
      "source": [
        "from azure.ai.ml import MLClient, command, Input, Output\n",
        "from azure.identity import DefaultAzureCredential\n",
        "\n",
        "ml_client = MLClient(\n",
        "    credential=DefaultAzureCredential(),\n",
        "    subscription_id=\"AZURE_SUBSCRIPTION_ID\",\n",
        "    resource_group_name=\"RESOURCE_GROUP_NAME\",\n",
        "    workspace_name=\"AZURE_WORKSPACE_NAME\"\n",
        ")\n",
        "\n",
        "job = command(\n",
        "    code=\".\",  # folder containing preprocessing.py\n",
        "    command=\"python preprocessing.py --input_path ${{inputs.input_data}} --output_path ${{outputs.output_data}}\",\n",
        "    inputs={\n",
        "        \"input_data\": Input(type=\"uri_file\", path=\"azureml:diabetes-raw-csv:1\")\n",
        "    },\n",
        "    outputs={\n",
        "        \"output_data\": Output(type=\"uri_folder\")\n",
        "    },\n",
        "    environment=\"AzureML-sklearn-1.0-ubuntu20.04-py38-cpu:1\",\n",
        "    compute=\"cpu-cluster\",\n",
        "    display_name=\"preprocessing-diabetes\",\n",
        "    experiment_name=\"pima-preprocessing\"\n",
        ")\n",
        "\n",
        "ml_client.jobs.create_or_update(job)"
      ]
    }
  ],
  "metadata": {
    "kernel_info": {
      "name": "python310-sdkv2"
    },
    "kernelspec": {
      "display_name": "Python 3.10 - SDK v2",
      "language": "python",
      "name": "python310-sdkv2"
    },
    "language_info": {
      "codemirror_mode": {
        "name": "ipython",
        "version": 3
      },
      "file_extension": ".py",
      "mimetype": "text/x-python",
      "name": "python",
      "nbconvert_exporter": "python",
      "pygments_lexer": "ipython3",
      "version": "3.10.16"
    },
    "microsoft": {
      "host": {
        "AzureML": {
          "notebookHasBeenCompleted": true
        }
      },
      "ms_spell_check": {
        "ms_spell_check_language": "fr"
      }
    },
    "nteract": {
      "version": "nteract-front-end@1.0.0"
    }
  },
  "nbformat": 4,
  "nbformat_minor": 2
}
