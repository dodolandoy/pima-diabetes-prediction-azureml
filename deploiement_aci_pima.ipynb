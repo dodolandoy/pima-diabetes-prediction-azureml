{
  "cells": [
    {
      "cell_type": "code",
      "source": [
        "# Connecting to Azure ML Workspace\n",
        "from azureml.core import Workspace, Model\n",
        "\n",
        "ws = Workspace.from_config()\n",
        "print(ws.name, ws.resource_group, ws.location, sep=' | ')\n",
        "\n",
        "# Loading the model from the Azure ML registry\n",
        "model = Model(workspace=ws, name=\"pimadiabetes_logistic_regression_model\")\n",
        "print(\"Model loaded:\", model.name)\n",
        "\n"
      ],
      "outputs": [
        {
          "output_type": "stream",
          "name": "stdout",
          "text": "edohkodji-machinelearn | defi | eastus2\nModel loaded: pimadiabetes_logistic_regression_model\n"
        }
      ],
      "execution_count": 1,
      "metadata": {
        "gather": {
          "logged": 1747660732029
        }
      }
    },
    {
      "cell_type": "code",
      "source": [
        "# Definition of the inference environment\n",
        "from azureml.core.environment import Environment\n",
        "from azureml.core.model import InferenceConfig\n",
        "\n",
        "env = Environment.from_pip_requirements(name=\"pima-env\", file_path=\"requirements.txt\")\n",
        "\n",
        "inference_config = InferenceConfig(\n",
        "    entry_script=\"score.py\",\n",
        "    environment=env\n",
        ")\n"
      ],
      "outputs": [],
      "execution_count": 2,
      "metadata": {
        "gather": {
          "logged": 1747660736936
        }
      }
    },
    {
      "cell_type": "code",
      "source": [
        "from azureml.core.webservice import AciWebservice\n",
        "\n",
        "deployment_config = AciWebservice.deploy_configuration(cpu_cores=1, memory_gb=1)\n",
        "\n",
        "service = Model.deploy(\n",
        "    workspace=ws,\n",
        "    name=\"pima-diabetes-deploy-02\",  \n",
        "    models=[model],\n",
        "    inference_config=inference_config,\n",
        "    deployment_config=deployment_config\n",
        ")\n",
        "\n",
        "service.wait_for_deployment(show_output=True)\n"
      ],
      "outputs": [
        {
          "output_type": "stream",
          "name": "stderr",
          "text": "/tmp/ipykernel_3155/4211749718.py:5: FutureWarning: azureml.core.model:\nTo leverage new model deployment capabilities, AzureML recommends using CLI/SDK v2 to deploy models as online endpoint, \nplease refer to respective documentations \nhttps://docs.microsoft.com/azure/machine-learning/how-to-deploy-managed-online-endpoints /\nhttps://docs.microsoft.com/azure/machine-learning/how-to-attach-kubernetes-anywhere \nFor more information on migration, see https://aka.ms/acimoemigration \nTo disable CLI/SDK v1 deprecation warning set AZUREML_LOG_DEPRECATION_WARNING_ENABLED to 'False'\n  service = Model.deploy(\n"
        },
        {
          "output_type": "stream",
          "name": "stdout",
          "text": "Tips: You can try get_logs(): https://aka.ms/debugimage#dockerlog or local deployment: https://aka.ms/debugimage#debug-locally to debug if deployment takes longer than 10 minutes.\nRunning\n2025-05-19 14:02:49+00:00 Creating Container Registry if not exists.\n2025-05-19 14:02:50+00:00 Use the existing image.\n2025-05-19 14:02:50+00:00 Generating deployment configuration.\n2025-05-19 14:02:55+00:00 Submitting deployment to compute..\n2025-05-19 14:03:04+00:00 Checking the status of deployment pima-diabetes-deploy-02..\n2025-05-19 14:04:33+00:00 Checking the status of inference endpoint pima-diabetes-deploy-02.\nSucceeded\nACI service creation operation finished, operation \"Succeeded\"\n"
        }
      ],
      "execution_count": 7,
      "metadata": {
        "gather": {
          "logged": 1747663479354
        }
      }
    },
    {
      "cell_type": "code",
      "source": [
        "# Testing the API with a prediction request\n",
        "import requests\n",
        "import json\n",
        "\n",
        "sample_data = json.dumps({\"data\": [[8, 183, 64, 29.15, 155.54, 23.3, 0.672, 32]]})\n",
        "headers = {\"Content-Type\": \"application/json\"}\n",
        "\n",
        "response = requests.post(service.scoring_uri, data=sample_data, headers=headers)\n",
        "print(\"Réponse:\", response.json())"
      ],
      "outputs": [
        {
          "output_type": "stream",
          "name": "stdout",
          "text": "Réponse: [1]\n"
        }
      ],
      "execution_count": 9,
      "metadata": {
        "gather": {
          "logged": 1747663976718
        }
      }
    }
  ],
  "metadata": {
    "kernelspec": {
      "name": "python310-sdkv2",
      "language": "python",
      "display_name": "Python 3.10 - SDK v2"
    },
    "language_info": {
      "name": "python",
      "version": "3.10.16",
      "mimetype": "text/x-python",
      "codemirror_mode": {
        "name": "ipython",
        "version": 3
      },
      "pygments_lexer": "ipython3",
      "nbconvert_exporter": "python",
      "file_extension": ".py"
    },
    "microsoft": {
      "ms_spell_check": {
        "ms_spell_check_language": "en"
      },
      "host": {
        "AzureML": {
          "notebookHasBeenCompleted": true
        }
      }
    },
    "nteract": {
      "version": "nteract-front-end@1.0.0"
    },
    "kernel_info": {
      "name": "python310-sdkv2"
    }
  },
  "nbformat": 4,
  "nbformat_minor": 2
}