{
  "cells": [
    {
      "cell_type": "code",
      "source": [
        "# Connecting to Azure ML Workspace\n",
        "from azureml.core import Workspace, Model\n",
        "\n",
        "ws = Workspace.from_config()\n",
        "print(ws.name, ws.resource_group, ws.location, sep=' | ')\n",
        "\n",
        "# Loading the model from the Azure ML registry\n",
        "model = Model(workspace=ws, name=\"pimadiabetes_logistic_regression_model\")\n",
        "print(\"Model loaded:\", model.name)\n",
        "\n"
      ],
      "outputs": [],
      "execution_count": null,
      "metadata": {
        "gather": {
          "logged": 1749524150883
        }
      }
    },
    {
      "cell_type": "code",
      "source": [
        "# Definition of the inference environment\n",
        "from azureml.core.environment import Environment\n",
        "from azureml.core.model import InferenceConfig\n",
        "\n",
        "env = Environment.from_pip_requirements(name=\"pima-env\", file_path=\"requirements.txt\")\n",
        "\n",
        "inference_config = InferenceConfig(\n",
        "    entry_script=\"score.py\",\n",
        "    environment=env\n",
        ")\n"
      ],
      "outputs": [],
      "execution_count": null,
      "metadata": {
        "gather": {
          "logged": 1749524410640
        }
      }
    },
    {
      "cell_type": "code",
      "source": [
        "from azureml.core.webservice import AciWebservice\n",
        "\n",
        "deployment_config = AciWebservice.deploy_configuration(cpu_cores=1, memory_gb=1)\n",
        "\n",
        "service = Model.deploy(\n",
        "    workspace=ws,\n",
        "    name=\"pima-diabetes-deploy-04\",  \n",
        "    models=[model],\n",
        "    inference_config=inference_config,\n",
        "    deployment_config=deployment_config\n",
        ")\n",
        "\n",
        "service.wait_for_deployment(show_output=True)\n"
      ],
      "outputs": [],
      "execution_count": null,
      "metadata": {
        "gather": {
          "logged": 1749524579002
        }
      }
    },
    {
      "cell_type": "code",
      "source": [
        "# Testing the API with a prediction request\n",
        "import requests\n",
        "import json\n",
        "\n",
        "sample_data = json.dumps({\"data\": [[8, 183, 64, 29.15, 155.54, 23.3, 0.672, 32]]})\n",
        "headers = {\"Content-Type\": \"application/json\"}\n",
        "\n",
        "response = requests.post(service.scoring_uri, data=sample_data, headers=headers)\n",
        "result = response.json()\n",
        "print(result[\"message\"])\n",
        "print(result[\"explanation\"])\n"
      ],
      "outputs": [],
      "execution_count": null,
      "metadata": {
        "gather": {
          "logged": 1749525140544
        }
      }
    }
  ],
  "metadata": {
    "kernelspec": {
      "name": "python310-sdkv2",
      "language": "python",
      "display_name": "Python 3.10 - SDK v2"
    },
    "language_info": {
      "name": "python",
      "version": "3.10.16",
      "mimetype": "text/x-python",
      "codemirror_mode": {
        "name": "ipython",
        "version": 3
      },
      "pygments_lexer": "ipython3",
      "nbconvert_exporter": "python",
      "file_extension": ".py"
    },
    "microsoft": {
      "ms_spell_check": {
        "ms_spell_check_language": "en"
      },
      "host": {
        "AzureML": {
          "notebookHasBeenCompleted": true
        }
      }
    },
    "nteract": {
      "version": "nteract-front-end@1.0.0"
    },
    "kernel_info": {
      "name": "python310-sdkv2"
    }
  },
  "nbformat": 4,
  "nbformat_minor": 2
}