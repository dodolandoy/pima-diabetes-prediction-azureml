{
  "cells": [
    {
      "cell_type": "code",
      "source": [
        "from azure.ai.ml import MLClient, command, Input\n",
        "from azure.identity import DefaultAzureCredential\n",
        "\n",
        "# Connection to the Azure ML workspace\n",
        "ml_client = MLClient(\n",
        "    credential=DefaultAzureCredential(),\n",
        "    subscription_id=\"9b242a28-3291-4f4a-a229-21cb403aee00\",\n",
        "    resource_group_name=\"DEFI\",\n",
        "    workspace_name=\"EDOHKODJI-machinelearn\"\n",
        ")\n",
        "\n",
        "# Job definition\n",
        "job = command(\n",
        "    code=\".\",  # Directory containing the script\n",
        "    command=\"python train_and_log.py --input_path ${{inputs.input_data}}\",\n",
        "    inputs={\n",
        "        \"input_data\": Input(\n",
        "            type=\"uri_file\",\n",
        "            path=\"azureml://datastores/workspaceblobstore/paths/azureml/amusing_rain_bpjsgwf1wy/output_data/data_diabetesPima_clean.csv\",\n",
        "            mode=\"download\"\n",
        "        )\n",
        "    },\n",
        "    environment=\"azureml://registries/azureml/environments/model-evaluation/versions/1\",\n",
        "    compute=\"cpu-cluster\",\n",
        "    experiment_name=\"diabetes-training\",\n",
        "    display_name=\"train-and-log-diabetes\"\n",
        ")\n",
        "\n",
        "# Job launch\n",
        "returned_job = ml_client.jobs.create_or_update(job)\n",
        "print(f\"Job successfully submitted : {returned_job.name}\")\n"
      ],
      "outputs": [],
      "execution_count": null,
      "metadata": {
        "gather": {
          "logged": 1747192859335
        }
      }
    }
  ],
  "metadata": {
    "kernelspec": {
      "name": "python310-sdkv2",
      "language": "python",
      "display_name": "Python 3.10 - SDK v2"
    },
    "language_info": {
      "name": "python",
      "version": "3.10.16",
      "mimetype": "text/x-python",
      "codemirror_mode": {
        "name": "ipython",
        "version": 3
      },
      "pygments_lexer": "ipython3",
      "nbconvert_exporter": "python",
      "file_extension": ".py"
    },
    "microsoft": {
      "ms_spell_check": {
        "ms_spell_check_language": "en"
      },
      "host": {
        "AzureML": {
          "notebookHasBeenCompleted": true
        }
      }
    },
    "kernel_info": {
      "name": "python310-sdkv2"
    },
    "nteract": {
      "version": "nteract-front-end@1.0.0"
    }
  },
  "nbformat": 4,
  "nbformat_minor": 2
}