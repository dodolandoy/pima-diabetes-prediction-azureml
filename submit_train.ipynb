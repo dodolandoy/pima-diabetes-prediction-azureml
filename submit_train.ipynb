{
  "cells": [
    {
      "cell_type": "code",
      "execution_count": null,
      "metadata": {
        "gather": {
          "logged": 1747192859335
        }
      },
      "outputs": [
        {
          "name": "stderr",
          "output_type": "stream",
          "text": [
            "Class AutoDeleteSettingSchema: This is an experimental class, and may change at any time. Please see https://aka.ms/azuremlexperimental for more information.\n",
            "Class AutoDeleteConditionSchema: This is an experimental class, and may change at any time. Please see https://aka.ms/azuremlexperimental for more information.\n",
            "Class BaseAutoDeleteSettingSchema: This is an experimental class, and may change at any time. Please see https://aka.ms/azuremlexperimental for more information.\n",
            "Class IntellectualPropertySchema: This is an experimental class, and may change at any time. Please see https://aka.ms/azuremlexperimental for more information.\n",
            "Class ProtectionLevelSchema: This is an experimental class, and may change at any time. Please see https://aka.ms/azuremlexperimental for more information.\n",
            "Class BaseIntellectualPropertySchema: This is an experimental class, and may change at any time. Please see https://aka.ms/azuremlexperimental for more information.\n",
            "\u001b[32mUploading edoh.kodji (52.84 MBs): 100%|██████████| 52843628/52843628 [00:13<00:00, 3839060.34it/s] \n",
            "\u001b[39m\n",
            "\n"
          ]
        },
        {
          "name": "stdout",
          "output_type": "stream",
          "text": [
            "Job soumis avec succès : stoic_glass_6lybg1mt8n\n"
          ]
        }
      ],
      "source": [
        "from azure.ai.ml import MLClient, command, Input\n",
        "from azure.identity import DefaultAzureCredential\n",
        "\n",
        "# Connection to the Azure ML workspace\n",
        "ml_client = MLClient(\n",
        "    credential=DefaultAzureCredential(),\n",
        "    subscription_id=\"AZURE_SUBSCRIPTION_ID\",\n",
        "    resource_group_name=\"RESOURCE_GROUP_NAME\",\n",
        "    workspace_name=\"AZURE_WORKSPACE_NAME\"\n",
        ")\n",
        "\n",
        "# Job definition\n",
        "job = command(\n",
        "    code=\".\",  # Directory containing the script\n",
        "    command=\"python train_and_log.py --input_path ${{inputs.input_data}}\",\n",
        "    inputs={\n",
        "        \"input_data\": Input(\n",
        "            type=\"uri_file\",\n",
        "            # Adapt this environment path if needed\n",
        "            path=\"azureml://datastores/workspaceblobstore/paths/azureml/amusing_rain_bpjsgwf1wy/output_data/data_diabetesPima_clean.csv\",\n",
        "            mode=\"download\"\n",
        "        )\n",
        "    },\n",
        "    # Adapt this environment path if needed\n",
        "    environment=\"azureml://registries/azureml/environments/model-evaluation/versions/1\",\n",
        "    compute=\"cpu-cluster\",\n",
        "    experiment_name=\"diabetes-training\",\n",
        "    display_name=\"train-and-log-diabetes\"\n",
        ")\n",
        "\n",
        "# Job launch\n",
        "returned_job = ml_client.jobs.create_or_update(job)\n",
        "print(f\"Job successfully submitted : {returned_job.name}\")\n"
      ]
    }
  ],
  "metadata": {
    "kernel_info": {
      "name": "python310-sdkv2"
    },
    "kernelspec": {
      "display_name": "Python 3.10 - SDK v2",
      "language": "python",
      "name": "python310-sdkv2"
    },
    "language_info": {
      "codemirror_mode": {
        "name": "ipython",
        "version": 3
      },
      "file_extension": ".py",
      "mimetype": "text/x-python",
      "name": "python",
      "nbconvert_exporter": "python",
      "pygments_lexer": "ipython3",
      "version": "3.10.16"
    },
    "microsoft": {
      "host": {
        "AzureML": {
          "notebookHasBeenCompleted": true
        }
      },
      "ms_spell_check": {
        "ms_spell_check_language": "en"
      }
    },
    "nteract": {
      "version": "nteract-front-end@1.0.0"
    }
  },
  "nbformat": 4,
  "nbformat_minor": 2
}
